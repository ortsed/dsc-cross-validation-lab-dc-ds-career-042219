{
 "cells": [
  {
   "cell_type": "markdown",
   "metadata": {},
   "source": [
    "# Introduction to Cross-Validation - Lab\n",
    "\n",
    "## Introduction\n",
    "\n",
    "In this lab, you'll be able to practice your cross-validation skills!\n",
    "\n",
    "\n",
    "## Objectives\n",
    "\n",
    "You will be able to:\n",
    "\n",
    "- Compare the results with normal holdout validation\n",
    "- Apply 5-fold cross validation for regression"
   ]
  },
  {
   "cell_type": "markdown",
   "metadata": {},
   "source": [
    "## Let's get started\n",
    "\n",
    "This time, let's only include the variables that were previously selected using recursive feature elimination. We included the code to preprocess below."
   ]
  },
  {
   "cell_type": "code",
   "execution_count": 1,
   "metadata": {},
   "outputs": [],
   "source": [
    "import pandas as pd\n",
    "import numpy as np\n",
    "import matplotlib.pyplot as plt\n",
    "%matplotlib inline\n",
    "from sklearn.datasets import load_boston\n",
    "\n",
    "boston = load_boston()\n",
    "\n",
    "boston_features = pd.DataFrame(boston.data, columns = boston.feature_names)\n",
    "b = boston_features[\"B\"]\n",
    "logdis = np.log(boston_features[\"DIS\"])\n",
    "loglstat = np.log(boston_features[\"LSTAT\"])\n",
    "\n",
    "# minmax scaling\n",
    "boston_features[\"B\"] = (b-min(b))/(max(b)-min(b))\n",
    "boston_features[\"DIS\"] = (logdis-min(logdis))/(max(logdis)-min(logdis))\n",
    "\n",
    "#standardization\n",
    "boston_features[\"LSTAT\"] = (loglstat-np.mean(loglstat))/np.sqrt(np.var(loglstat))"
   ]
  },
  {
   "cell_type": "code",
   "execution_count": 2,
   "metadata": {},
   "outputs": [],
   "source": [
    "X = boston_features[[\"B\", \"DIS\", \"LSTAT\"]]\n",
    "y = boston_features[\"PTRATIO\"]"
   ]
  },
  {
   "cell_type": "markdown",
   "metadata": {},
   "source": [
    "## Train test split\n",
    "\n",
    "Perform a train-test-split with a test set of 0.20."
   ]
  },
  {
   "cell_type": "code",
   "execution_count": 3,
   "metadata": {},
   "outputs": [],
   "source": [
    "from sklearn.model_selection import train_test_split"
   ]
  },
  {
   "cell_type": "code",
   "execution_count": 4,
   "metadata": {},
   "outputs": [],
   "source": [
    "X_train, X_test, y_train, y_test = train_test_split(X, y, test_size = 0.2)\n"
   ]
  },
  {
   "cell_type": "code",
   "execution_count": null,
   "metadata": {},
   "outputs": [],
   "source": []
  },
  {
   "cell_type": "markdown",
   "metadata": {},
   "source": [
    "Fit the model and apply the model to the make test set predictions"
   ]
  },
  {
   "cell_type": "code",
   "execution_count": 5,
   "metadata": {},
   "outputs": [],
   "source": [
    "from sklearn.linear_model import LinearRegression\n",
    "linreg = LinearRegression()\n",
    "reg = linreg.fit(X_train,y_train)"
   ]
  },
  {
   "cell_type": "code",
   "execution_count": 6,
   "metadata": {},
   "outputs": [],
   "source": [
    "predicts = reg.predict(X_test)"
   ]
  },
  {
   "cell_type": "markdown",
   "metadata": {},
   "source": [
    "Calculate the residuals and the mean squared error"
   ]
  },
  {
   "cell_type": "code",
   "execution_count": 7,
   "metadata": {},
   "outputs": [],
   "source": [
    "resids_test = y_test - predicts\n",
    "resids_train = y_train - reg.predict(X_train)"
   ]
  },
  {
   "cell_type": "code",
   "execution_count": 8,
   "metadata": {},
   "outputs": [
    {
     "name": "stdout",
     "output_type": "stream",
     "text": [
      "\n"
     ]
    }
   ],
   "source": [
    "print()"
   ]
  },
  {
   "cell_type": "code",
   "execution_count": 9,
   "metadata": {},
   "outputs": [],
   "source": [
    "from sklearn.metrics import mean_squared_error\n",
    "\n",
    "mse_test = mean_squared_error(y_test, predicts)\n",
    "mse_train = mean_squared_error(y_train, reg.predict(X_train))"
   ]
  },
  {
   "cell_type": "code",
   "execution_count": 10,
   "metadata": {},
   "outputs": [
    {
     "name": "stdout",
     "output_type": "stream",
     "text": [
      "3.87731224028423 3.867771172567119\n"
     ]
    }
   ],
   "source": [
    "print(mse_test, mse_train)"
   ]
  },
  {
   "cell_type": "markdown",
   "metadata": {},
   "source": [
    "## Cross-Validation: let's build it from scratch!"
   ]
  },
  {
   "cell_type": "markdown",
   "metadata": {},
   "source": [
    "### Create a cross-validation function"
   ]
  },
  {
   "cell_type": "markdown",
   "metadata": {},
   "source": [
    "Write a function k-folds that splits a dataset into k evenly sized pieces.\n",
    "If the full dataset is not divisible by k, make the first few folds one larger then later ones.\n",
    "\n",
    "We want the folds to be a list of subsets of data!"
   ]
  },
  {
   "cell_type": "code",
   "execution_count": 26,
   "metadata": {},
   "outputs": [],
   "source": [
    "def kfolds(data, k):\n",
    "    import random\n",
    "    # Force data as pandas dataframe\n",
    "    # add 1 to fold size to account for leftovers           \n",
    "    slices = np.array([])\n",
    "    for i in range(0,k):\n",
    "        slice = []\n",
    "        while len(slice) < len(data)/k:\n",
    "            rand = random.randint(0,len(data)-1)\n",
    "            if rand not in any(slices):\n",
    "                slice.append(rand)\n",
    "        slice\n",
    "    return slices\n",
    "    "
   ]
  },
  {
   "cell_type": "markdown",
   "metadata": {},
   "source": [
    "### Apply it to the Boston Housing Data"
   ]
  },
  {
   "cell_type": "code",
   "execution_count": 32,
   "metadata": {},
   "outputs": [
    {
     "data": {
      "text/plain": [
       "array([ 45., 275.,  58., 339., 248., 169., 487., 204.,  35., 440., 152.,\n",
       "        27., 260., 479.,  69., 176.,  74., 451., 411., 364., 284., 109.,\n",
       "       216., 312., 128., 140., 425.,  73.,  23., 425., 358., 119., 355.,\n",
       "        62.,  17., 391., 495., 425.,  82.,  27., 331., 183., 270., 101.,\n",
       "       501., 465., 320., 481.,  40., 222., 348., 301., 286., 150., 427.,\n",
       "       397., 452., 368., 421.,  66.,  53., 311., 260., 280., 220., 170.,\n",
       "         8., 452., 214.,  73., 311., 262., 182.,  52., 413., 492., 378.,\n",
       "        29., 352., 178., 158., 157., 170.,  22.,  58., 480., 174., 340.,\n",
       "       395., 285.,  59.,  72.,  55., 476., 423., 283., 399.,   7., 456.,\n",
       "        14., 221., 353., 144., 322.,  16., 243., 224., 345., 168., 494.,\n",
       "       295., 363., 449., 317.,  93., 146., 132., 307., 277., 235., 134.,\n",
       "       161., 335., 409., 454.,  75., 274., 237., 195., 143., 246., 302.,\n",
       "        87., 212., 256., 120., 434., 316., 407.,  33., 253., 105., 122.,\n",
       "       258., 268., 393.,  88., 441., 202., 143., 126., 151., 441., 125.,\n",
       "       319., 130., 298., 380., 486., 356.,  85., 447., 130., 131., 264.,\n",
       "       137., 370., 241., 407., 276., 192., 414., 410., 325., 396.,  25.,\n",
       "       365., 121.,   6., 151., 415., 470., 390., 336.,  31., 239., 357.,\n",
       "       475.,  11., 211., 416., 388., 315., 144., 435., 333., 116., 151.,\n",
       "        34., 381.,  38., 200., 107., 409., 394., 164., 504., 278., 188.,\n",
       "       428., 424., 408., 282., 197., 147., 346., 177., 366., 180., 489.,\n",
       "       323., 387., 321.,  13.,  80., 308.,  79., 474., 219., 473.,  44.,\n",
       "       369., 127.,   9., 187., 148., 502., 468., 133.,  19.,  28., 392.,\n",
       "        26., 231., 428., 430., 438., 115., 446., 263., 162., 139.,  81.,\n",
       "        26., 184., 229.,  96., 383., 412., 124., 448., 142., 163., 259.,\n",
       "       291., 382., 455., 273.,  15.,  37., 188., 299., 474., 281.,  67.,\n",
       "       384., 478., 247., 417., 279., 401., 138., 406., 218., 215., 228.,\n",
       "       428., 273.,  78., 138., 503., 173., 191., 308., 255., 112., 477.,\n",
       "        12.,  61., 382., 450., 129., 188., 186., 148., 242., 296., 252.,\n",
       "       310.,  71., 485., 488., 444., 426., 201., 385., 297., 372., 209.,\n",
       "       181., 171., 342., 160., 457., 269., 230., 194., 175., 118., 459.,\n",
       "       436., 432., 379., 196., 418., 145., 208.,   4., 201.,  47.,  95.,\n",
       "       267., 254., 236., 343., 324.,  99.,   4., 442., 420.,  98.,  49.,\n",
       "       354., 389.,  30., 297., 226.,  95.,  98.,  90., 171., 159., 265.,\n",
       "       304., 306., 371.,  32., 360., 464., 233., 437., 290.,  71.,  30.,\n",
       "       379., 309., 453., 404.,  89., 443., 190.,  90., 462., 351., 209.,\n",
       "       329., 166., 499., 442., 172.,   1., 254., 405., 236., 225., 472.,\n",
       "       313.,  90., 429., 227., 466., 499., 360., 367., 347., 289.,  91.,\n",
       "       104., 154., 185.,  21., 167., 113., 491., 375., 338., 117., 461.,\n",
       "       332., 341., 100., 287., 189., 198., 305., 337.,  39.,   0., 189.,\n",
       "       155., 244., 431., 249., 349., 234.,  21., 327.,  50., 271., 330.,\n",
       "       141., 469., 223.,  51., 135., 165., 136., 156.,  46., 108., 213.,\n",
       "       300., 167., 141.,  21., 288., 179.,  50.,  50., 332., 350., 493.,\n",
       "       250.,   2., 123.,  39., 108., 469., 155., 251., 261., 402.,  57.,\n",
       "       314., 386., 431., 272., 207.,  42., 482.,   3., 245., 288., 136.,\n",
       "        83., 293.,  94., 232., 359., 500., 377.,   2.,  21.,  43., 483.,\n",
       "        48., 117.,  54., 375., 328.,  56., 484., 303., 419., 206., 461.,\n",
       "       153., 135.,   3., 249.])"
      ]
     },
     "execution_count": 32,
     "metadata": {},
     "output_type": "execute_result"
    }
   ],
   "source": [
    "# Make sure to concatenate the data again\n",
    "tests"
   ]
  },
  {
   "cell_type": "code",
   "execution_count": 30,
   "metadata": {},
   "outputs": [
    {
     "ename": "TypeError",
     "evalue": "object of type 'numpy.float64' has no len()",
     "output_type": "error",
     "traceback": [
      "\u001b[0;31m\u001b[0m",
      "\u001b[0;31mTypeError\u001b[0mTraceback (most recent call last)",
      "\u001b[0;32m<ipython-input-30-441e6c65b95c>\u001b[0m in \u001b[0;36m<module>\u001b[0;34m()\u001b[0m\n\u001b[1;32m      1\u001b[0m \u001b[0mtests\u001b[0m \u001b[0;34m=\u001b[0m \u001b[0mkfolds\u001b[0m\u001b[0;34m(\u001b[0m\u001b[0mboston_features\u001b[0m\u001b[0;34m,\u001b[0m \u001b[0;36m5\u001b[0m\u001b[0;34m)\u001b[0m\u001b[0;34m\u001b[0m\u001b[0m\n\u001b[0;32m----> 2\u001b[0;31m \u001b[0mtrains\u001b[0m \u001b[0;34m=\u001b[0m \u001b[0;34m[\u001b[0m\u001b[0;34m[\u001b[0m\u001b[0mx\u001b[0m \u001b[0;32mfor\u001b[0m \u001b[0mx\u001b[0m \u001b[0;32min\u001b[0m \u001b[0mrange\u001b[0m\u001b[0;34m(\u001b[0m\u001b[0;36m0\u001b[0m\u001b[0;34m,\u001b[0m\u001b[0mlen\u001b[0m\u001b[0;34m(\u001b[0m\u001b[0mtests\u001b[0m\u001b[0;34m[\u001b[0m\u001b[0;36m0\u001b[0m\u001b[0;34m]\u001b[0m\u001b[0;34m)\u001b[0m\u001b[0;34m)\u001b[0m \u001b[0;32mif\u001b[0m \u001b[0mx\u001b[0m \u001b[0;32mnot\u001b[0m \u001b[0;32min\u001b[0m \u001b[0mtest\u001b[0m\u001b[0;34m]\u001b[0m \u001b[0;32mfor\u001b[0m \u001b[0mtest\u001b[0m \u001b[0;32min\u001b[0m \u001b[0mtests\u001b[0m\u001b[0;34m]\u001b[0m\u001b[0;34m\u001b[0m\u001b[0m\n\u001b[0m",
      "\u001b[0;32m<ipython-input-30-441e6c65b95c>\u001b[0m in \u001b[0;36m<listcomp>\u001b[0;34m(.0)\u001b[0m\n\u001b[1;32m      1\u001b[0m \u001b[0mtests\u001b[0m \u001b[0;34m=\u001b[0m \u001b[0mkfolds\u001b[0m\u001b[0;34m(\u001b[0m\u001b[0mboston_features\u001b[0m\u001b[0;34m,\u001b[0m \u001b[0;36m5\u001b[0m\u001b[0;34m)\u001b[0m\u001b[0;34m\u001b[0m\u001b[0m\n\u001b[0;32m----> 2\u001b[0;31m \u001b[0mtrains\u001b[0m \u001b[0;34m=\u001b[0m \u001b[0;34m[\u001b[0m\u001b[0;34m[\u001b[0m\u001b[0mx\u001b[0m \u001b[0;32mfor\u001b[0m \u001b[0mx\u001b[0m \u001b[0;32min\u001b[0m \u001b[0mrange\u001b[0m\u001b[0;34m(\u001b[0m\u001b[0;36m0\u001b[0m\u001b[0;34m,\u001b[0m\u001b[0mlen\u001b[0m\u001b[0;34m(\u001b[0m\u001b[0mtests\u001b[0m\u001b[0;34m[\u001b[0m\u001b[0;36m0\u001b[0m\u001b[0;34m]\u001b[0m\u001b[0;34m)\u001b[0m\u001b[0;34m)\u001b[0m \u001b[0;32mif\u001b[0m \u001b[0mx\u001b[0m \u001b[0;32mnot\u001b[0m \u001b[0;32min\u001b[0m \u001b[0mtest\u001b[0m\u001b[0;34m]\u001b[0m \u001b[0;32mfor\u001b[0m \u001b[0mtest\u001b[0m \u001b[0;32min\u001b[0m \u001b[0mtests\u001b[0m\u001b[0;34m]\u001b[0m\u001b[0;34m\u001b[0m\u001b[0m\n\u001b[0m",
      "\u001b[0;31mTypeError\u001b[0m: object of type 'numpy.float64' has no len()"
     ]
    }
   ],
   "source": [
    "tests = kfolds(boston_features, 5)\n",
    "trains = [[x for x in range(0,len(tests[0])) if x not in test] for test in tests]"
   ]
  },
  {
   "cell_type": "markdown",
   "metadata": {},
   "source": [
    "### Perform a linear regression for each fold, and calculate the training and test error"
   ]
  },
  {
   "cell_type": "markdown",
   "metadata": {},
   "source": [
    "Perform linear regression on each and calculate the training and test error."
   ]
  },
  {
   "cell_type": "code",
   "execution_count": null,
   "metadata": {},
   "outputs": [],
   "source": [
    "test_errs = []\n",
    "train_errs = []\n",
    "k=5\n",
    "\n",
    "for n in range(k):\n",
    "    # Split in train and test for the fold\n",
    "    train = None\n",
    "    test = None\n",
    "    # Fit a linear regression model\n",
    "    \n",
    "    #Evaluate Train and Test Errors\n",
    "\n",
    "# print(train_errs)\n",
    "# print(test_errs)"
   ]
  },
  {
   "cell_type": "markdown",
   "metadata": {},
   "source": [
    "## Cross-Validation using Scikit-Learn"
   ]
  },
  {
   "cell_type": "markdown",
   "metadata": {},
   "source": [
    "This was a bit of work! Now, let's perform 5-fold cross-validation to get the mean squared error through scikit-learn. Let's have a look at the five individual MSEs and explain what's going on."
   ]
  },
  {
   "cell_type": "code",
   "execution_count": null,
   "metadata": {},
   "outputs": [],
   "source": []
  },
  {
   "cell_type": "markdown",
   "metadata": {},
   "source": [
    "Next, calculate the mean of the MSE over the 5 cross-validations and compare and contrast with the result from the train-test-split case."
   ]
  },
  {
   "cell_type": "code",
   "execution_count": null,
   "metadata": {},
   "outputs": [],
   "source": []
  },
  {
   "cell_type": "markdown",
   "metadata": {},
   "source": [
    "##  Summary "
   ]
  },
  {
   "cell_type": "markdown",
   "metadata": {},
   "source": [
    "Congratulations! You now practiced your knowledge on k-fold crossvalidation!"
   ]
  }
 ],
 "metadata": {
  "kernelspec": {
   "display_name": "Python 3",
   "language": "python",
   "name": "python3"
  },
  "language_info": {
   "codemirror_mode": {
    "name": "ipython",
    "version": 3
   },
   "file_extension": ".py",
   "mimetype": "text/x-python",
   "name": "python",
   "nbconvert_exporter": "python",
   "pygments_lexer": "ipython3",
   "version": "3.6.6"
  }
 },
 "nbformat": 4,
 "nbformat_minor": 2
}
