{
 "cells": [
  {
   "cell_type": "markdown",
   "metadata": {},
   "source": [
    "# Introduction to Cross-Validation - Lab\n",
    "\n",
    "## Introduction\n",
    "\n",
    "In this lab, you'll be able to practice your cross-validation skills!\n",
    "\n",
    "\n",
    "## Objectives\n",
    "\n",
    "You will be able to:\n",
    "\n",
    "- Compare the results with normal holdout validation\n",
    "- Apply 5-fold cross validation for regression"
   ]
  },
  {
   "cell_type": "markdown",
   "metadata": {},
   "source": [
    "## Let's get started\n",
    "\n",
    "This time, let's only include the variables that were previously selected using recursive feature elimination. We included the code to preprocess below."
   ]
  },
  {
   "cell_type": "code",
   "execution_count": 1,
   "metadata": {},
   "outputs": [],
   "source": [
    "import pandas as pd\n",
    "import numpy as np\n",
    "import matplotlib.pyplot as plt\n",
    "%matplotlib inline\n",
    "from sklearn.datasets import load_boston\n",
    "\n",
    "boston = load_boston()\n",
    "\n",
    "boston_features = pd.DataFrame(boston.data, columns = boston.feature_names)\n",
    "b = boston_features[\"B\"]\n",
    "logdis = np.log(boston_features[\"DIS\"])\n",
    "loglstat = np.log(boston_features[\"LSTAT\"])\n",
    "\n",
    "# minmax scaling\n",
    "boston_features[\"B\"] = (b-min(b))/(max(b)-min(b))\n",
    "boston_features[\"DIS\"] = (logdis-min(logdis))/(max(logdis)-min(logdis))\n",
    "\n",
    "#standardization\n",
    "boston_features[\"LSTAT\"] = (loglstat-np.mean(loglstat))/np.sqrt(np.var(loglstat))"
   ]
  },
  {
   "cell_type": "code",
   "execution_count": 2,
   "metadata": {},
   "outputs": [],
   "source": [
    "X = boston_features[[\"B\", \"DIS\", \"LSTAT\"]]\n",
    "y = boston_features[\"PTRATIO\"]"
   ]
  },
  {
   "cell_type": "markdown",
   "metadata": {},
   "source": [
    "## Train test split\n",
    "\n",
    "Perform a train-test-split with a test set of 0.20."
   ]
  },
  {
   "cell_type": "code",
   "execution_count": 3,
   "metadata": {},
   "outputs": [],
   "source": [
    "from sklearn.model_selection import train_test_split"
   ]
  },
  {
   "cell_type": "code",
   "execution_count": 4,
   "metadata": {},
   "outputs": [],
   "source": [
    "X_train, X_test, y_train, y_test = train_test_split(X, y, test_size = 0.2)\n"
   ]
  },
  {
   "cell_type": "code",
   "execution_count": null,
   "metadata": {},
   "outputs": [],
   "source": []
  },
  {
   "cell_type": "markdown",
   "metadata": {},
   "source": [
    "Fit the model and apply the model to the make test set predictions"
   ]
  },
  {
   "cell_type": "code",
   "execution_count": 5,
   "metadata": {},
   "outputs": [],
   "source": [
    "from sklearn.linear_model import LinearRegression\n",
    "linreg = LinearRegression()\n",
    "reg = linreg.fit(X_train,y_train)"
   ]
  },
  {
   "cell_type": "code",
   "execution_count": 6,
   "metadata": {},
   "outputs": [],
   "source": [
    "predicts = reg.predict(X_test)"
   ]
  },
  {
   "cell_type": "markdown",
   "metadata": {},
   "source": [
    "Calculate the residuals and the mean squared error"
   ]
  },
  {
   "cell_type": "code",
   "execution_count": 7,
   "metadata": {},
   "outputs": [],
   "source": [
    "resids_test = y_test - predicts\n",
    "resids_train = y_train - reg.predict(X_train)"
   ]
  },
  {
   "cell_type": "code",
   "execution_count": 8,
   "metadata": {},
   "outputs": [
    {
     "name": "stdout",
     "output_type": "stream",
     "text": [
      "\n"
     ]
    }
   ],
   "source": [
    "print()"
   ]
  },
  {
   "cell_type": "code",
   "execution_count": 9,
   "metadata": {},
   "outputs": [],
   "source": [
    "from sklearn.metrics import mean_squared_error\n",
    "\n",
    "mse_test = mean_squared_error(y_test, predicts)\n",
    "mse_train = mean_squared_error(y_train, reg.predict(X_train))"
   ]
  },
  {
   "cell_type": "code",
   "execution_count": 10,
   "metadata": {},
   "outputs": [
    {
     "name": "stdout",
     "output_type": "stream",
     "text": [
      "3.87731224028423 3.867771172567119\n"
     ]
    }
   ],
   "source": [
    "print(mse_test, mse_train)"
   ]
  },
  {
   "cell_type": "markdown",
   "metadata": {},
   "source": [
    "## Cross-Validation: let's build it from scratch!"
   ]
  },
  {
   "cell_type": "markdown",
   "metadata": {},
   "source": [
    "### Create a cross-validation function"
   ]
  },
  {
   "cell_type": "markdown",
   "metadata": {},
   "source": [
    "Write a function k-folds that splits a dataset into k evenly sized pieces.\n",
    "If the full dataset is not divisible by k, make the first few folds one larger then later ones.\n",
    "\n",
    "We want the folds to be a list of subsets of data!"
   ]
  },
  {
   "cell_type": "code",
   "execution_count": 26,
   "metadata": {},
   "outputs": [],
   "source": [
    "def kfolds(data, k):\n",
    "    import random\n",
    "    # Force data as pandas dataframe\n",
    "    # add 1 to fold size to account for leftovers           \n",
    "    slices = np.array([])\n",
    "    for i in range(0,k):\n",
    "        slice = []\n",
    "        while len(slice) < len(data)/k:\n",
    "            rand = random.randint(0,len(data)-1)\n",
    "            if rand not in slices.flatten():\n",
    "                slice.append(rand)\n",
    "        slices = np.append(slices, slice)\n",
    "    return slices\n",
    "    "
   ]
  },
  {
   "cell_type": "markdown",
   "metadata": {},
   "source": [
    "### Apply it to the Boston Housing Data"
   ]
  },
  {
   "cell_type": "code",
   "execution_count": 27,
   "metadata": {},
   "outputs": [],
   "source": [
    "# Make sure to concatenate the data again"
   ]
  },
  {
   "cell_type": "code",
   "execution_count": 28,
   "metadata": {},
   "outputs": [
    {
     "data": {
      "text/plain": [
       "array([274.,  53., 139., 200., 377., 419., 110., 315., 343., 270., 437.,\n",
       "       414., 494., 114., 112.,   1., 245., 409., 208., 394., 205., 173.,\n",
       "        23., 337.,  34., 402., 323., 443.,  77., 453., 420., 215., 361.,\n",
       "       173., 393., 457., 233.,  68., 320., 235., 238., 409.,  96., 486.,\n",
       "       205., 299., 189., 286., 197., 347., 448., 362., 445., 262.,   8.,\n",
       "       127., 308., 106., 437.,   2.,  82., 405.,  54., 296., 444., 183.,\n",
       "       204.,  97.,  57., 454., 324., 462., 160., 159., 253.,  67., 164.,\n",
       "       483.,   2., 110., 209.,  66., 136., 187., 279., 203., 336., 253.,\n",
       "       263.,  59., 469., 158., 181., 172., 297., 217., 277., 385., 143.,\n",
       "       498.,  34., 352., 290.,  93., 213., 485., 162., 101., 295., 284.,\n",
       "        79., 210., 271., 411.,  51.,  84., 364.,  50., 152., 326., 440.,\n",
       "       305., 237., 177., 449.,  33., 387.,  36.,   3.,  41., 155., 252.,\n",
       "       168., 502., 220., 256., 375., 230., 152., 387., 157., 166., 154.,\n",
       "        50., 468., 351.,  38., 201., 397., 285., 243., 433., 435., 427.,\n",
       "       254., 128., 251., 135., 427., 293., 289., 350., 318., 489., 108.,\n",
       "       427.,  11.,  64., 224., 387., 375., 141., 433., 389., 439., 475.,\n",
       "        51., 439., 107., 244., 222., 247.,  65., 501.,  60., 342., 476.,\n",
       "       496., 327., 379., 318., 427., 193., 148.,  55.,   7., 130., 234.,\n",
       "        62., 298., 288., 276., 169., 418., 206., 429., 219., 381., 105.,\n",
       "       267., 436.,   5., 142., 125.,  43., 423., 259., 120., 488., 504.,\n",
       "       412., 472., 206., 283., 329., 341., 398., 258., 242., 278., 408.,\n",
       "       465.,  26., 255., 340.,  20.,  70., 206., 261., 307., 153.,  16.,\n",
       "       382., 207., 381.,  13., 257., 472., 360., 349.,   9., 481., 465.,\n",
       "       134., 314., 122., 369., 246., 113.,  35., 491., 287., 153., 503.,\n",
       "        20., 426., 499., 153., 348.,  40., 386.,  56.,  87., 395., 120.,\n",
       "       294., 186.,  37.,  70., 382., 119., 260., 451., 145.,  70.,  81.,\n",
       "       261., 442., 122., 163.,  29., 339.,  14.,  43., 466.,  12., 312.,\n",
       "        27., 403., 388., 310., 194.,  15., 398., 313.,  95., 291., 353.,\n",
       "       121., 137.,   4., 374., 239., 456., 478., 366., 131.,  58., 441.,\n",
       "       354., 492., 198.,  76., 356., 413., 373., 202., 188.,  94., 333.,\n",
       "        52., 356., 100., 282.,  92., 192., 380., 376., 150., 149., 300.,\n",
       "       378., 378., 446.,  10., 111., 358., 221.,  94., 441., 115., 221.,\n",
       "       480., 372.,  86., 505., 316., 401., 401., 471., 167., 264.,  58.,\n",
       "        69., 129., 371., 117.,  88., 202., 100., 171., 356., 212., 482.,\n",
       "       432., 359., 484., 146.,  72., 424.,  44., 202.,  19.,  25., 325.,\n",
       "       430., 374., 227., 156., 144., 239., 477., 424.,  91., 223.,  63.,\n",
       "        52., 461., 192., 335., 365., 431., 171., 425., 212.,  88.,  76.,\n",
       "       214., 422., 391., 176., 474., 390.,  80., 383., 280., 199., 309.,\n",
       "       170., 178., 269., 272., 182., 458., 383., 236., 102.,  21., 269.,\n",
       "       102.,  32., 275.,  75.,  45., 346., 280., 363.,  73.,  71., 311.,\n",
       "       392., 280., 497.,  78., 331., 103., 216.,  98., 459., 470., 390.,\n",
       "        47., 268., 199., 109., 196., 268., 338., 317., 175., 275., 357.,\n",
       "       455., 421., 355., 331., 328., 396., 103., 422., 447., 228., 176.,\n",
       "       269., 269.,   0., 140., 151.,  22., 268., 185., 368., 497., 452.,\n",
       "       280., 304., 147., 404., 416., 116., 321., 190., 196., 470.,  39.,\n",
       "       390., 151., 391., 500., 248., 500., 250., 400., 450., 410., 179.,\n",
       "       268., 407.,  30., 338.])"
      ]
     },
     "execution_count": 28,
     "metadata": {},
     "output_type": "execute_result"
    }
   ],
   "source": [
    "foldskfolds(boston_features, 5)"
   ]
  },
  {
   "cell_type": "markdown",
   "metadata": {},
   "source": [
    "### Perform a linear regression for each fold, and calculate the training and test error"
   ]
  },
  {
   "cell_type": "markdown",
   "metadata": {},
   "source": [
    "Perform linear regression on each and calculate the training and test error."
   ]
  },
  {
   "cell_type": "code",
   "execution_count": null,
   "metadata": {},
   "outputs": [],
   "source": [
    "test_errs = []\n",
    "train_errs = []\n",
    "k=5\n",
    "\n",
    "for n in range(k):\n",
    "    # Split in train and test for the fold\n",
    "    train = None\n",
    "    test = None\n",
    "    # Fit a linear regression model\n",
    "    \n",
    "    #Evaluate Train and Test Errors\n",
    "\n",
    "# print(train_errs)\n",
    "# print(test_errs)"
   ]
  },
  {
   "cell_type": "markdown",
   "metadata": {},
   "source": [
    "## Cross-Validation using Scikit-Learn"
   ]
  },
  {
   "cell_type": "markdown",
   "metadata": {},
   "source": [
    "This was a bit of work! Now, let's perform 5-fold cross-validation to get the mean squared error through scikit-learn. Let's have a look at the five individual MSEs and explain what's going on."
   ]
  },
  {
   "cell_type": "code",
   "execution_count": null,
   "metadata": {},
   "outputs": [],
   "source": []
  },
  {
   "cell_type": "markdown",
   "metadata": {},
   "source": [
    "Next, calculate the mean of the MSE over the 5 cross-validations and compare and contrast with the result from the train-test-split case."
   ]
  },
  {
   "cell_type": "code",
   "execution_count": null,
   "metadata": {},
   "outputs": [],
   "source": []
  },
  {
   "cell_type": "markdown",
   "metadata": {},
   "source": [
    "##  Summary "
   ]
  },
  {
   "cell_type": "markdown",
   "metadata": {},
   "source": [
    "Congratulations! You now practiced your knowledge on k-fold crossvalidation!"
   ]
  }
 ],
 "metadata": {
  "kernelspec": {
   "display_name": "Python 3",
   "language": "python",
   "name": "python3"
  },
  "language_info": {
   "codemirror_mode": {
    "name": "ipython",
    "version": 3
   },
   "file_extension": ".py",
   "mimetype": "text/x-python",
   "name": "python",
   "nbconvert_exporter": "python",
   "pygments_lexer": "ipython3",
   "version": "3.6.6"
  }
 },
 "nbformat": 4,
 "nbformat_minor": 2
}
